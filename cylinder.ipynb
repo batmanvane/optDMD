{
 "cells": [
  {
   "cell_type": "markdown",
   "id": "f0abb9d4-f9dd-41f8-8c2e-1301e92ab04c",
   "metadata": {},
   "source": [
    "# Flow past a 2D cylinder - noisy data"
   ]
  },
  {
   "cell_type": "code",
   "id": "fc1b78eb-e16b-4166-8f57-1128e3edeff1",
   "metadata": {
    "ExecuteTime": {
     "end_time": "2024-11-14T20:56:06.897296Z",
     "start_time": "2024-11-14T20:55:57.191363Z"
    }
   },
   "source": [
    "from os.path import join\n",
    "from os import makedirs\n",
    "from collections import defaultdict\n",
    "from math import sqrt, log\n",
    "from math import e as euler\n",
    "from time import time\n",
    "from itertools import product\n",
    "from copy import deepcopy\n",
    "import warnings\n",
    "import torch as pt\n",
    "import numpy as np\n",
    "import matplotlib.pyplot as plt\n",
    "from flowtorch.analysis import SVD, DMD, OptDMD, HOOptDMD\n",
    "from notebook_utils import set_seed\n",
    "from pydmd import BOPDMD\n",
    "\n",
    "data_path = \"data\"\n",
    "results_path = join(\"results\", \"cylinder_noise\")\n",
    "makedirs(results_path, exist_ok=True)\n",
    "plt.rcParams[\"figure.dpi\"] = 160\n",
    "plt.rcParams[\"text.usetex\"] = True\n",
    "pt.set_default_dtype(pt.float64)\n",
    "warnings.filterwarnings(\"ignore\")"
   ],
   "outputs": [
    {
     "name": "stdout",
     "output_type": "stream",
     "text": [
      "Warning: TecplotDataloader can't be loaded. Most likely, the 'paraview' module is missing.\n",
      "Refer to the installation instructions at https://github.com/FlowModelingControl/flowtorch\n",
      "If you are not using the TecplotDataloader, ignore this warning.\n"
     ]
    }
   ],
   "execution_count": 1
  },
  {
   "cell_type": "markdown",
   "id": "fdd6fa24-fe6f-4008-b9a8-251eae8cde88",
   "metadata": {},
   "source": [
    "\n",
    "## Generation of noisy data"
   ]
  },
  {
   "cell_type": "code",
   "id": "970698ce-4175-418f-aeb2-91a24a609bb1",
   "metadata": {
    "ExecuteTime": {
     "end_time": "2024-11-14T20:56:06.901966Z",
     "start_time": "2024-11-14T20:56:06.898689Z"
    }
   },
   "source": [
    "def apply_noise(dm, gamma = 0.0):\n",
    "    dm_noisy = dm.clone()\n",
    "    rows, cols = dm.shape\n",
    "    for col in range(cols):\n",
    "        dm_noisy[:, col] += (pt.rand(rows) - 0.5) * 2.0 * gamma * dm[:, col].abs()\n",
    "    return dm_noisy"
   ],
   "outputs": [],
   "execution_count": 2
  },
  {
   "cell_type": "code",
   "id": "b7e6fe5e-3a8f-4fdd-ad92-e11777d53b87",
   "metadata": {
    "ExecuteTime": {
     "end_time": "2024-11-14T20:56:07.122052Z",
     "start_time": "2024-11-14T20:56:06.903304Z"
    }
   },
   "source": [
    "# cylinder diameter in [m]\n",
    "L = 0.1\n",
    "# mean inlet velocity in [m/s]\n",
    "U_IN = 1.0\n",
    "# single precision (32 bit) snapshots\n",
    "data = pt.load(join(data_path, \"cylinder.pt\"))\n",
    "data.keys()"
   ],
   "outputs": [
    {
     "ename": "FileNotFoundError",
     "evalue": "[Errno 2] No such file or directory: 'data/cylinder.pt'",
     "output_type": "error",
     "traceback": [
      "\u001B[0;31m---------------------------------------------------------------------------\u001B[0m",
      "\u001B[0;31mFileNotFoundError\u001B[0m                         Traceback (most recent call last)",
      "Cell \u001B[0;32mIn[3], line 6\u001B[0m\n\u001B[1;32m      4\u001B[0m U_IN \u001B[38;5;241m=\u001B[39m \u001B[38;5;241m1.0\u001B[39m\n\u001B[1;32m      5\u001B[0m \u001B[38;5;66;03m# single precision (32 bit) snapshots\u001B[39;00m\n\u001B[0;32m----> 6\u001B[0m data \u001B[38;5;241m=\u001B[39m \u001B[43mpt\u001B[49m\u001B[38;5;241;43m.\u001B[39;49m\u001B[43mload\u001B[49m\u001B[43m(\u001B[49m\u001B[43mjoin\u001B[49m\u001B[43m(\u001B[49m\u001B[43mdata_path\u001B[49m\u001B[43m,\u001B[49m\u001B[43m \u001B[49m\u001B[38;5;124;43m\"\u001B[39;49m\u001B[38;5;124;43mcylinder.pt\u001B[39;49m\u001B[38;5;124;43m\"\u001B[39;49m\u001B[43m)\u001B[49m\u001B[43m)\u001B[49m\n\u001B[1;32m      7\u001B[0m data\u001B[38;5;241m.\u001B[39mkeys()\n",
      "File \u001B[0;32m~/WORK/THB/Forschung/optDMD/.venv/lib/python3.12/site-packages/torch/serialization.py:998\u001B[0m, in \u001B[0;36mload\u001B[0;34m(f, map_location, pickle_module, weights_only, mmap, **pickle_load_args)\u001B[0m\n\u001B[1;32m    995\u001B[0m \u001B[38;5;28;01mif\u001B[39;00m \u001B[38;5;124m'\u001B[39m\u001B[38;5;124mencoding\u001B[39m\u001B[38;5;124m'\u001B[39m \u001B[38;5;129;01mnot\u001B[39;00m \u001B[38;5;129;01min\u001B[39;00m pickle_load_args\u001B[38;5;241m.\u001B[39mkeys():\n\u001B[1;32m    996\u001B[0m     pickle_load_args[\u001B[38;5;124m'\u001B[39m\u001B[38;5;124mencoding\u001B[39m\u001B[38;5;124m'\u001B[39m] \u001B[38;5;241m=\u001B[39m \u001B[38;5;124m'\u001B[39m\u001B[38;5;124mutf-8\u001B[39m\u001B[38;5;124m'\u001B[39m\n\u001B[0;32m--> 998\u001B[0m \u001B[38;5;28;01mwith\u001B[39;00m \u001B[43m_open_file_like\u001B[49m\u001B[43m(\u001B[49m\u001B[43mf\u001B[49m\u001B[43m,\u001B[49m\u001B[43m \u001B[49m\u001B[38;5;124;43m'\u001B[39;49m\u001B[38;5;124;43mrb\u001B[39;49m\u001B[38;5;124;43m'\u001B[39;49m\u001B[43m)\u001B[49m \u001B[38;5;28;01mas\u001B[39;00m opened_file:\n\u001B[1;32m    999\u001B[0m     \u001B[38;5;28;01mif\u001B[39;00m _is_zipfile(opened_file):\n\u001B[1;32m   1000\u001B[0m         \u001B[38;5;66;03m# The zipfile reader is going to advance the current file position.\u001B[39;00m\n\u001B[1;32m   1001\u001B[0m         \u001B[38;5;66;03m# If we want to actually tail call to torch.jit.load, we need to\u001B[39;00m\n\u001B[1;32m   1002\u001B[0m         \u001B[38;5;66;03m# reset back to the original position.\u001B[39;00m\n\u001B[1;32m   1003\u001B[0m         orig_position \u001B[38;5;241m=\u001B[39m opened_file\u001B[38;5;241m.\u001B[39mtell()\n",
      "File \u001B[0;32m~/WORK/THB/Forschung/optDMD/.venv/lib/python3.12/site-packages/torch/serialization.py:445\u001B[0m, in \u001B[0;36m_open_file_like\u001B[0;34m(name_or_buffer, mode)\u001B[0m\n\u001B[1;32m    443\u001B[0m \u001B[38;5;28;01mdef\u001B[39;00m \u001B[38;5;21m_open_file_like\u001B[39m(name_or_buffer, mode):\n\u001B[1;32m    444\u001B[0m     \u001B[38;5;28;01mif\u001B[39;00m _is_path(name_or_buffer):\n\u001B[0;32m--> 445\u001B[0m         \u001B[38;5;28;01mreturn\u001B[39;00m \u001B[43m_open_file\u001B[49m\u001B[43m(\u001B[49m\u001B[43mname_or_buffer\u001B[49m\u001B[43m,\u001B[49m\u001B[43m \u001B[49m\u001B[43mmode\u001B[49m\u001B[43m)\u001B[49m\n\u001B[1;32m    446\u001B[0m     \u001B[38;5;28;01melse\u001B[39;00m:\n\u001B[1;32m    447\u001B[0m         \u001B[38;5;28;01mif\u001B[39;00m \u001B[38;5;124m'\u001B[39m\u001B[38;5;124mw\u001B[39m\u001B[38;5;124m'\u001B[39m \u001B[38;5;129;01min\u001B[39;00m mode:\n",
      "File \u001B[0;32m~/WORK/THB/Forschung/optDMD/.venv/lib/python3.12/site-packages/torch/serialization.py:426\u001B[0m, in \u001B[0;36m_open_file.__init__\u001B[0;34m(self, name, mode)\u001B[0m\n\u001B[1;32m    425\u001B[0m \u001B[38;5;28;01mdef\u001B[39;00m \u001B[38;5;21m__init__\u001B[39m(\u001B[38;5;28mself\u001B[39m, name, mode):\n\u001B[0;32m--> 426\u001B[0m     \u001B[38;5;28msuper\u001B[39m()\u001B[38;5;241m.\u001B[39m\u001B[38;5;21m__init__\u001B[39m(\u001B[38;5;28;43mopen\u001B[39;49m\u001B[43m(\u001B[49m\u001B[43mname\u001B[49m\u001B[43m,\u001B[49m\u001B[43m \u001B[49m\u001B[43mmode\u001B[49m\u001B[43m)\u001B[49m)\n",
      "\u001B[0;31mFileNotFoundError\u001B[0m: [Errno 2] No such file or directory: 'data/cylinder.pt'"
     ]
    }
   ],
   "execution_count": 3
  },
  {
   "cell_type": "code",
   "id": "65dd6d60-d608-4082-ab86-0d44e58ac84e",
   "metadata": {
    "ExecuteTime": {
     "end_time": "2024-11-14T20:56:07.125203Z",
     "start_time": "2024-11-14T20:56:07.125106Z"
    }
   },
   "source": [
    "t = data[\"t\"].type(pt.float64)\n",
    "t = t - t[0]\n",
    "dt = (data[\"t\"][1] - data[\"t\"][0]).type(pt.float64)\n",
    "dm = data[\"vorticity\"]\n",
    "dm -= dm.mean(dim=1).unsqueeze(-1)\n",
    "dm_norm = (((dm - dm.min()) / (dm.max() - dm.min()) - 0.5) * 2.0).type(pt.float64)\n",
    "norm = dm_norm.norm()"
   ],
   "outputs": [],
   "execution_count": null
  },
  {
   "cell_type": "code",
   "id": "acc11869-7f1c-458d-ba59-5523dc392abf",
   "metadata": {
    "ExecuteTime": {
     "end_time": "2024-11-14T20:56:07.126023Z",
     "start_time": "2024-11-14T20:56:07.125940Z"
    }
   },
   "source": [
    "t.dtype, dt.dtype, dm_norm.dtype"
   ],
   "outputs": [],
   "execution_count": null
  },
  {
   "cell_type": "code",
   "id": "bb72c838-b590-4ae9-8065-0204454e27da",
   "metadata": {},
   "source": [
    "dm.shape, t[1] - t[0], 3*L/U_IN,  (t[1] - t[0])*U_IN/L, dm.shape[1]*(t[1] - t[0])*3"
   ],
   "outputs": [],
   "execution_count": null
  },
  {
   "cell_type": "code",
   "id": "224f3c85-7a0a-405b-8dca-f21efd6cd549",
   "metadata": {},
   "source": [
    "x = data[\"x\"]\n",
    "y = data[\"y\"]\n",
    "\n",
    "def add_contour(ax, field, vmax):\n",
    "    levels = pt.linspace(-vmax, vmax, 120)\n",
    "    ax.tricontourf(x, y, field, levels=levels, vmin=-vmax, vmax=vmax, cmap=\"seismic\", extend=\"both\")\n",
    "    ax.add_patch(plt.Circle((0.2, 0.2), 0.05, color='k'))\n",
    "    ax.set_aspect(\"equal\", 'box')\n",
    "    ax.set_xticklabels([])\n",
    "    ax.set_yticklabels([])"
   ],
   "outputs": [],
   "execution_count": null
  },
  {
   "cell_type": "code",
   "id": "f1298f04-5b33-4b80-adad-0461a4b23e43",
   "metadata": {},
   "source": [
    "noise_levels_plot = (0.05, 0.1, 0.2, 0.4)\n",
    "fig, axarr = plt.subplots(len(noise_levels_plot), 3, figsize=(6, 5), sharex=True, sharey=True)\n",
    "\n",
    "for row, gamma in enumerate(noise_levels_plot):\n",
    "    set_seed(row)\n",
    "    dm_noisy = apply_noise(dm_norm, gamma)\n",
    "    for col, i in enumerate((0, 4, 8)):\n",
    "        add_contour(axarr[row, col], dm_noisy[:, i], 1.0)\n",
    "        if row == 0:\n",
    "            axarr[row, col].set_title(r\"$\\tilde{t}=\" + r\"{:1.2f}$\".format((data[\"t\"][i] - data[\"t\"][0])*U_IN/L))\n",
    "    axarr[row, 0].set_ylabel(r\"$\\gamma = {:1.2f}$\".format(gamma))\n",
    "plt.savefig(join(results_path, \"noisy_data.png\"), bbox_inches=\"tight\")"
   ],
   "outputs": [],
   "execution_count": null
  },
  {
   "cell_type": "markdown",
   "id": "173fbde3-d76e-483e-bec3-fb5bca5ef361",
   "metadata": {},
   "source": [
    "## Taining/validation split to test for potential overfitting"
   ]
  },
  {
   "cell_type": "code",
   "id": "0f17e873-0e88-4d4b-98fc-20598d188e19",
   "metadata": {},
   "source": [
    "ranks = (10, 15, 20, 25)\n",
    "noise_levels = (0.4, 0.2, 0.1, 0.05)"
   ],
   "outputs": [],
   "execution_count": null
  },
  {
   "cell_type": "code",
   "id": "37f9b800-5bc6-4d26-a1c2-99900988f12d",
   "metadata": {},
   "source": [
    "opt_err, opt_pro_err = {}, {}\n",
    "opt_log, opt_pro_log = {}, {}\n",
    "set_seed(0)\n",
    "for r in ranks:\n",
    "    for g in noise_levels:\n",
    "        dm_noisy = apply_noise(dm_norm, g)\n",
    "        dmd = OptDMD(dm_noisy, dt, rank=r)\n",
    "        dmd.train(train_size=0.9, val_size=0.1, lr=1e-4, stopping_options={\"patience\" : 80, \"min_delta\": 5e-6})\n",
    "        rec = dmd.modes @ (pt.linalg.vander(dmd.eigvals, N=dm_norm.size(1)) * dmd.amplitude.unsqueeze(-1))\n",
    "        opt_err[(r, g)] = (dm_norm - rec).norm() / norm\n",
    "        opt_log[(r, g)] = dmd.log\n",
    "        dmd = HOOptDMD(dm_noisy, dt, rank_dr=r, rank=r, delay=1)\n",
    "        dmd.train(train_size=0.9, val_size=0.1, lr=1e-4, stopping_options={\"patience\" : 80, \"min_delta\": 5e-6})\n",
    "        rec = dmd.modes @ (pt.linalg.vander(dmd.eigvals, N=dm_norm.size(1)) * dmd.amplitude.unsqueeze(-1))\n",
    "        opt_pro_err[(r, g)] = (dm_norm - rec).norm() / norm\n",
    "        opt_pro_log[(r, g)] = dmd.log"
   ],
   "outputs": [],
   "execution_count": null
  },
  {
   "cell_type": "code",
   "id": "f5b9cf34-cdf4-49f3-93d8-4eb39a32a9c2",
   "metadata": {},
   "source": [
    "fig, axarr = plt.subplots(len(noise_levels), figsize=(6, 6), sharex=True, sharey=False)\n",
    "for i, r in enumerate(ranks):\n",
    "    for j, g in enumerate(noise_levels):\n",
    "        l = opt_log[(r, g)]\n",
    "        e = range(len(l[\"train_loss\"]))\n",
    "        axarr[j].plot(e, l[\"train_loss\"], ls=\"-\", c=f\"C{i}\", label=r\"$r={:d}$, train\".format(r))\n",
    "        axarr[j].plot(e, l[\"val_loss\"], ls=\"--\", c=f\"C{i}\", label=r\"$r={:d}$, val.\".format(r))\n",
    "        axarr[j].set_yscale(\"log\")\n",
    "\n",
    "for j, g in enumerate(noise_levels):\n",
    "    ylim = axarr[j].get_ylim()\n",
    "    axarr[j].text(350, euler**(0.5*(log(ylim[1]) + log(ylim[0]))), r\"$\\gamma = {:1.2f}$\".format(g))\n",
    "    axarr[j].set_xlim(0, 400)\n",
    "axarr[0].legend(ncol=len(ranks), loc=\"upper center\", bbox_to_anchor=(0.5, 1.6))\n",
    "fig.text(0.5, 0.0, r\"$e$\", ha=\"center\")\n",
    "fig.text(-0.01, 0.5, r\"$L_2$\", va=\"center\", rotation=90)\n",
    "plt.show()"
   ],
   "outputs": [],
   "execution_count": null
  },
  {
   "cell_type": "code",
   "id": "33de2350-a9f7-4f38-bc26-1b9c58b4c721",
   "metadata": {},
   "source": [
    "fig, axarr = plt.subplots(len(noise_levels), figsize=(6, 6), sharex=True, sharey=False)\n",
    "for i, r in enumerate(ranks):\n",
    "    for j, g in enumerate(noise_levels):\n",
    "        l = opt_pro_log[(r, g)]\n",
    "        e = range(len(l[\"train_loss\"]))\n",
    "        axarr[j].plot(e, l[\"train_loss\"], ls=\"-\", c=f\"C{i}\", label=r\"$r={:d}$, train\".format(r))\n",
    "        axarr[j].plot(e, l[\"val_loss\"], ls=\"--\", c=f\"C{i}\", label=r\"$r={:d}$, val.\".format(r))\n",
    "        axarr[j].set_yscale(\"log\")\n",
    "\n",
    "for j, g in enumerate(noise_levels):\n",
    "    ylim = axarr[j].get_ylim()\n",
    "    axarr[j].text(350, euler**(0.5*(log(ylim[1]) + log(ylim[0]))), r\"$\\gamma = {:1.2f}$\".format(g))\n",
    "    axarr[j].set_xlim(0, 400)\n",
    "axarr[0].legend(ncol=len(ranks), loc=\"upper center\", bbox_to_anchor=(0.5, 1.6))\n",
    "fig.text(0.5, 0.0, r\"$e$\", ha=\"center\")\n",
    "fig.text(-0.01, 0.5, r\"$L_2$\", va=\"center\", rotation=90)\n",
    "plt.show()"
   ],
   "outputs": [],
   "execution_count": null
  },
  {
   "cell_type": "code",
   "id": "69e9c8af-db84-4810-ab88-b474e87f82f3",
   "metadata": {},
   "source": [
    "fig, ax = plt.subplots(figsize=(6, 3), sharex=True, sharey=True)\n",
    "\n",
    "for j, g in enumerate(noise_levels):\n",
    "    err = [opt_err[(r, g)] for r in ranks]\n",
    "    ax.plot(ranks, err, ls=\"-\", c=f\"C{j}\", label=r\"$\\gamma = {:1.2f}$\".format(g), marker=\"o\")\n",
    "    err = [opt_pro_err[(r, g)] for r in ranks]\n",
    "    ax.plot(ranks, err, ls=\"--\", c=f\"C{j}\", marker=\"x\")\n",
    "ax.set_xticks(ranks)\n",
    "ax.set_xlim(ranks[0], ranks[-1])\n",
    "ax.legend()\n",
    "ax.set_xlabel(r\"$r$\")\n",
    "ax.set_ylabel(r\"$E_{rec}$\")\n",
    "plt.show()"
   ],
   "outputs": [],
   "execution_count": null
  },
  {
   "cell_type": "markdown",
   "id": "e56e4255-b126-4a60-aac9-ddbfa8dd3bed",
   "metadata": {},
   "source": [
    "## Cell for testing variable projection settings"
   ]
  },
  {
   "cell_type": "code",
   "id": "46e39420-762e-4046-9ee6-b49809c64eb8",
   "metadata": {},
   "source": [
    "for r in (10, 15, 20, 25):\n",
    "    dmd_init = DMD(dm_norm, dt, rank=r, optimal=True)\n",
    "    dmd = BOPDMD(svd_rank=r, num_trials=0, init_alpha=dmd_init.eigvals_cont.numpy(), eig_constraints={\"conjugate_pairs\"},\n",
    "                 varpro_opts_dict={\"verbose\": False, \"use_fulljac\" : True})\n",
    "    dmd.fit(dm_norm.numpy(), t.numpy())\n",
    "    eigvals = pt.exp(pt.from_numpy(dmd.eigs)*dt)\n",
    "    rec = pt.from_numpy(dmd.modes) @ (pt.linalg.vander(eigvals, N=dm_norm.size(1)) * pt.from_numpy(dmd.amplitudes).unsqueeze(-1))\n",
    "    err = ((dm_norm - rec).norm() / norm).item()\n",
    "    print(f\"r={r}, L2={err:2.4e}\")"
   ],
   "outputs": [],
   "execution_count": null
  },
  {
   "cell_type": "markdown",
   "id": "8e173254-483b-4e84-b1d1-14ca10c4d57c",
   "metadata": {},
   "source": [
    "## Comparison of exact and optimized DMD"
   ]
  },
  {
   "cell_type": "code",
   "id": "53b80d21-3fb8-4966-bfa4-1bed4da5c195",
   "metadata": {},
   "source": [
    "def run_experiment(results, rank, gamma):\n",
    "    # create test data\n",
    "    dm = apply_noise(dm_norm, gamma)\n",
    "    \n",
    "    # exact DMD with optimal amplitudes\n",
    "    start = time()\n",
    "    dmd = DMD(dm, dt, rank=rank, optimal=True)\n",
    "    results[\"time_exact\"].append(time() - start)\n",
    "    results[\"eigs_exact\"].append(dmd.eigvals)\n",
    "    rec = dmd.modes @ (pt.linalg.vander(dmd.eigvals, N=dm_norm.size(1)) * dmd.amplitude.unsqueeze(-1))\n",
    "    results[\"err_exact\"].append((dm_norm - rec).norm() / norm)\n",
    "    \n",
    "    # optimized DMD - variable projection\n",
    "    start = time()\n",
    "    dmd = BOPDMD(svd_rank=rank, num_trials=0, init_alpha=dmd.eigvals_cont.numpy(), eig_constraints={\"conjugate_pairs\"},\n",
    "                 varpro_opts_dict={\"verbose\": False, \"use_fulljac\" : True})\n",
    "    dmd.fit(dm.numpy(), t.numpy())\n",
    "    results[\"time_bopt\"].append(time() - start)\n",
    "    eigvals = pt.exp(pt.from_numpy(dmd.eigs)*dt)\n",
    "    results[\"eigs_bopt\"].append(eigvals)\n",
    "    rec = pt.from_numpy(dmd.modes) @ (pt.linalg.vander(eigvals, N=dm_norm.size(1)) * pt.from_numpy(dmd.amplitudes).unsqueeze(-1))\n",
    "    results[\"err_bopt\"].append((dm_norm - rec).norm() / norm)\n",
    "    \n",
    "    # optimized DMD - backprop. + gradient descent\n",
    "    start = time()\n",
    "    dmd = OptDMD(dm, dt, rank=rank)\n",
    "    dmd.train(200, train_size=1.0, val_size=0.0, loss_key=\"train_loss\", lr=1e-4, stopping_options={\"patience\" : 80, \"min_delta\" : 5e-6})\n",
    "    results[\"time_opt\"].append(time() - start)\n",
    "    results[\"eigs_opt\"].append(dmd.eigvals)\n",
    "    rec = dmd.modes @ (pt.linalg.vander(dmd.eigvals, N=dm_norm.size(1)) * dmd.amplitude.unsqueeze(-1))\n",
    "    results[\"err_opt\"].append((dm_norm - rec).norm() / norm)\n",
    "    \n",
    "    # optimized DMD based on POD coefficients - backprop. + gradient descent\n",
    "    start = time()\n",
    "    dmd = HOOptDMD(dm, dt, rank_dr=rank, rank=rank, delay=1)\n",
    "    dmd.train(400, train_size=1.0, val_size=0.0, loss_key=\"train_loss\", lr=1e-4, stopping_options={\"patience\" : 80, \"min_delta\" : 5e-6})\n",
    "    results[\"time_optPro\"].append(time() - start)\n",
    "    results[\"eigs_optPro\"].append(dmd.eigvals)\n",
    "    rec = dmd.modes @ (pt.linalg.vander(dmd.eigvals, N=dm_norm.size(1)) * dmd.amplitude.unsqueeze(-1))\n",
    "    results[\"err_optPro\"].append((dm_norm - rec).norm() / norm)\n",
    "\n",
    "def repeat_experiment(n_trials, rank, gamma):\n",
    "    results = defaultdict(list)\n",
    "    for _ in range(n_trials):\n",
    "        run_experiment(results, rank, gamma)\n",
    "    return results"
   ],
   "outputs": [],
   "execution_count": null
  },
  {
   "cell_type": "code",
   "id": "db17c609-65a7-4834-801c-472a6645868e",
   "metadata": {},
   "source": [
    "ranks = (10, 15, 20, 25)\n",
    "noise_levels = (0.4, 0.2, 0.1, 0.05)"
   ],
   "outputs": [],
   "execution_count": null
  },
  {
   "cell_type": "code",
   "id": "940db001-b32a-40f5-a987-df77684ef09e",
   "metadata": {},
   "source": [
    "set_seed(0)\n",
    "results = {}\n",
    "for g in noise_levels:\n",
    "    for r in ranks:\n",
    "        start = time()\n",
    "        results[f\"{g}_{r}\"] = repeat_experiment(10, r, g)\n",
    "        diff = time() - start\n",
    "        print(f\"\\nFinished parameter set gamma={g:1.2f}, r={r} in {diff:1.2f}s\")\n",
    "pt.save(results, join(results_path, \"parameter_study.pt\"))"
   ],
   "outputs": [],
   "execution_count": null
  },
  {
   "cell_type": "code",
   "id": "de540f7c-e9ca-4671-b097-3e056cc8bdda",
   "metadata": {},
   "source": [
    "def extract_statistics(results, gamma, ranks, key):\n",
    "    mean, ci = [], []\n",
    "    for r in ranks:\n",
    "        data = pt.tensor(results[f\"{gamma}_{r}\"][key])\n",
    "        mean.append(data.mean(-1))\n",
    "        ci.append(1.96*data.std(-1)/sqrt(data.size(-1))) \n",
    "    return mean, ci"
   ],
   "outputs": [],
   "execution_count": null
  },
  {
   "cell_type": "code",
   "id": "ff194a27-de8e-45ad-b035-baa397614cdc",
   "metadata": {},
   "source": [
    "results = pt.load(join(results_path, \"parameter_study.pt\"))"
   ],
   "outputs": [],
   "execution_count": null
  },
  {
   "cell_type": "code",
   "id": "8c51ebb5-05f5-4ab9-8c5f-250ee25b1ebd",
   "metadata": {},
   "source": [
    "fig, axarr = plt.subplots(2, 4, figsize=(6, 3), sharex=True, sharey=False)\n",
    "\n",
    "for i, g in enumerate(noise_levels):\n",
    "    mean, ci = extract_statistics(results, g, ranks, \"err_exact\")\n",
    "    axarr[0, i].plot(ranks, mean, ls=\"-\", label=\"exact\", marker=\"x\")\n",
    "    axarr[1, i].plot(ranks, ci, ls=\"-\", label=\"exact\", marker=\"x\")\n",
    "    mean, ci = extract_statistics(results, g, ranks, \"err_opt\")\n",
    "    axarr[0, i].plot(ranks, mean, ls=\"--\", label=\"ADAM\", marker=\"o\")\n",
    "    axarr[1, i].plot(ranks, ci, ls=\"--\", label=\"ADAM\", marker=\"o\")\n",
    "    mean, ci = extract_statistics(results, g, ranks, \"err_optPro\")\n",
    "    axarr[0, i].plot(ranks, mean, ls=\":\", label=\"ADAM, POD\", marker=\"+\")\n",
    "    axarr[1, i].plot(ranks, ci, ls=\":\", label=\"ADAM, POD\", marker=\"+\")\n",
    "    mean, ci = extract_statistics(results, g, ranks, \"err_bopt\")\n",
    "    axarr[0, i].plot(ranks, mean, ls=\"-.\", label=\"VarPro\", marker=\"*\")\n",
    "    axarr[1, i].plot(ranks, ci, ls=\"-.\", label=\"VarPro\", marker=\"*\")\n",
    "    axarr[0, i].set_title(r\"$\\gamma = {:1.2f}$\".format(g))\n",
    "for ax in axarr.flatten():\n",
    "    ax.set_yscale(\"log\")\n",
    "    ax.set_xticks(ranks)\n",
    "    ax.grid(ls=\"--\")\n",
    "for i, ax in enumerate(axarr[0, :].flatten()):\n",
    "    ax.set_ylim(1e-3, 1)\n",
    "    if i > 0:\n",
    "        ax.set_yticklabels([])\n",
    "for i, ax in enumerate(axarr[1, :].flatten()):\n",
    "    ax.set_ylim(1e-6, 1e-1)\n",
    "    if i > 0:\n",
    "        ax.set_yticklabels([])\n",
    "axarr[0, 0].legend(ncol=4, bbox_to_anchor=(2.3, 1.55), loc=\"upper center\")\n",
    "axarr[0, 0].set_ylabel(r\"$\\mathrm{mean}(E_\\mathrm{rec})$\")\n",
    "axarr[1, 0].set_ylabel(r\"$\\mathrm{C}_{95}(E_\\mathrm{rec})$\")\n",
    "fig.text(0.5, -0.02, r\"$r$\", ha=\"center\")\n",
    "plt.savefig(join(results_path, \"reconstruction_error_cylinder.pdf\"), bbox_inches=\"tight\")"
   ],
   "outputs": [],
   "execution_count": null
  },
  {
   "cell_type": "code",
   "id": "8ad80305-675f-4f72-b378-883ab885d3d5",
   "metadata": {},
   "source": [
    "def get_closest_ev(ev, ev_list):\n",
    "    ev_split = pt.zeros((ev_list.size(0), 2))\n",
    "    ev_split[:, 0], ev_split[:, 1] = ev_list.real, ev_list.imag\n",
    "    ev_ref = pt.zeros(2)\n",
    "    ev_ref[0], ev_ref[1] = ev.real, ev.imag\n",
    "    dist = (ev_split - ev_ref).norm(dim=1)\n",
    "    return ev_list[dist.argmin()]\n",
    "\n",
    "def average_closest(ev, ev_trials):\n",
    "    closest = []\n",
    "    for evl in ev_trials:\n",
    "        closest.append(get_closest_ev(ev, evl))\n",
    "    closest = pt.tensor(closest)\n",
    "    return closest.mean(), closest.std()"
   ],
   "outputs": [],
   "execution_count": null
  },
  {
   "cell_type": "code",
   "id": "8203855f-53ba-47e6-ba5d-a720b3b4b9bd",
   "metadata": {},
   "source": [
    "top_n = 5\n",
    "rank = 15\n",
    "\n",
    "fig, axarr = plt.subplots(len(noise_levels), top_n, figsize=(6, 4))\n",
    "\n",
    "dmd_ref = DMD(dm_norm, dt, rank=rank, optimal=True)\n",
    "eigs_ref = dmd_ref.eigvals[dmd_ref.top_modes(top_n, integral=True, f_min=0.01)]\n",
    "\n",
    "box = 0.005\n",
    "for i, gamma in enumerate(noise_levels[::-1]):\n",
    "    for j, er in enumerate(eigs_ref):\n",
    "        axarr[i, j].add_patch(plt.Circle((0.0, 0.0), radius=1.0, color=\"k\", alpha=0.2, ec=\"k\", lw=2, ls=\"--\"))\n",
    "        axarr[i, j].set_aspect(\"equal\")\n",
    "        ex, ex_std = average_closest(er, results[f\"{gamma}_{rank}\"][\"eigs_exact\"])\n",
    "        opt, opt_std = average_closest(er, results[f\"{gamma}_{rank}\"][\"eigs_opt\"])\n",
    "        optPro, optPro_std = average_closest(er, results[f\"{gamma}_{rank}\"][\"eigs_optPro\"])\n",
    "        bopt, bopt_std = average_closest(er, results[f\"{gamma}_{rank}\"][\"eigs_bopt\"])\n",
    "        if i == 0 and j==0:\n",
    "            axarr[i, j].scatter([er.real], [er.imag], marker=\"o\", color=\"k\", facecolor=\"none\", s=100, zorder=5, label=\"ref.\")\n",
    "            axarr[i, j].scatter([ex.real], [ex.imag], marker=\"x\", color=\"C0\", zorder=6, label=\"exact\")\n",
    "            #axarr[i, j].scatter([opt.real], [opt.imag], marker=\"o\", color=\"C1\", zorder=5, label=\"ADAM\")\n",
    "            axarr[i, j].scatter([optPro.real], [optPro.imag], marker=\"+\", color=\"C2\", zorder=10, label=\"ADAM, POD\")\n",
    "            axarr[i, j].scatter([bopt.real], [bopt.imag], marker=\"*\", color=\"C3\", zorder=8, label=\"VarPro\")\n",
    "        else:\n",
    "            axarr[i, j].scatter([er.real], [er.imag], marker=\"o\", color=\"k\", facecolor=\"none\", s=100, zorder=5)\n",
    "            axarr[i, j].scatter([ex.real], [ex.imag], marker=\"x\", color=\"C0\", zorder=6)\n",
    "            #axarr[i, j].scatter([opt.real], [opt.imag], marker=\"o\", color=\"C1\", zorder=5)\n",
    "            axarr[i, j].scatter([optPro.real], [optPro.imag], marker=\"+\", color=\"C2\", zorder=10)\n",
    "            axarr[i, j].scatter([bopt.real], [bopt.imag], marker=\"*\", color=\"C3\", zorder=8)\n",
    "            \n",
    "        #axarr[i, j].add_patch(plt.Circle((ex.real, ex.imag), radius=2*ex_std, fc=\"none\", ec=\"C0\"))\n",
    "        #axarr[i, j].add_patch(plt.Circle((optPro.real, optPro.imag), radius=2*optPro_std, fc=\"none\", ec=\"C2\"))\n",
    "        #axarr[i, j].add_patch(plt.Circle((bopt.real, bopt.imag), radius=2*bopt_std, fc=\"none\", ec=\"C3\"))\n",
    "        axarr[i, j].set_xlim(er.real-box, er.real+box)\n",
    "        axarr[i, j].set_ylim(er.imag-box, er.imag+box)\n",
    "        axarr[i, j].set_xticks([])\n",
    "        axarr[i, j].set_yticks([])\n",
    "    axarr[i, 0].set_ylabel(r\"$\\gamma = {:2.2f}$\".format(gamma))\n",
    "for i, ax in enumerate(axarr[0, :]):\n",
    "    ax.set_title(r\"$\\lambda_{{{:d}}}$\".format(i))\n",
    "axarr[0, 0].legend(ncol=5, bbox_to_anchor=(3.3, 1.8), loc=\"upper center\")\n",
    "plt.savefig(join(results_path, \"eigvals_15.pdf\"), bbox_inches=\"tight\")"
   ],
   "outputs": [],
   "execution_count": null
  },
  {
   "cell_type": "code",
   "id": "f8a955a7-f5d9-4d14-b310-62cbbfeb560e",
   "metadata": {},
   "source": [
    "top_n = 5\n",
    "rank = 20\n",
    "\n",
    "fig, axarr = plt.subplots(len(noise_levels), top_n, figsize=(6, 4))\n",
    "\n",
    "dmd_ref = DMD(dm_norm, dt, rank=rank, optimal=True)\n",
    "eigs_ref = dmd_ref.eigvals[dmd_ref.top_modes(top_n, integral=True, f_min=0.01)]\n",
    "\n",
    "box = 0.005\n",
    "for i, gamma in enumerate(noise_levels[::-1]):\n",
    "    for j, er in enumerate(eigs_ref):\n",
    "        axarr[i, j].add_patch(plt.Circle((0.0, 0.0), radius=1.0, color=\"k\", alpha=0.2, ec=\"k\", lw=2, ls=\"--\"))\n",
    "        axarr[i, j].set_aspect(\"equal\")\n",
    "        ex, ex_std = average_closest(er, results[f\"{gamma}_{rank}\"][\"eigs_exact\"])\n",
    "        opt, opt_std = average_closest(er, results[f\"{gamma}_{rank}\"][\"eigs_opt\"])\n",
    "        optPro, optPro_std = average_closest(er, results[f\"{gamma}_{rank}\"][\"eigs_optPro\"])\n",
    "        bopt, bopt_std = average_closest(er, results[f\"{gamma}_{rank}\"][\"eigs_bopt\"])\n",
    "        if i == 0 and j==0:\n",
    "            axarr[i, j].scatter([er.real], [er.imag], marker=\"o\", color=\"k\", facecolor=\"none\", s=100, zorder=5, label=\"ref.\")\n",
    "            axarr[i, j].scatter([ex.real], [ex.imag], marker=\"x\", color=\"C0\", zorder=6, label=\"exact\")\n",
    "            #axarr[i, j].scatter([opt.real], [opt.imag], marker=\"o\", color=\"C1\", zorder=5, label=\"ADAM\")\n",
    "            axarr[i, j].scatter([optPro.real], [optPro.imag], marker=\"+\", color=\"C2\", zorder=10, label=\"ADAM, POD\")\n",
    "            axarr[i, j].scatter([bopt.real], [bopt.imag], marker=\"*\", color=\"C3\", zorder=8, label=\"VarPro\")\n",
    "        else:\n",
    "            axarr[i, j].scatter([er.real], [er.imag], marker=\"o\", color=\"k\", facecolor=\"none\", s=100, zorder=5)\n",
    "            axarr[i, j].scatter([ex.real], [ex.imag], marker=\"x\", color=\"C0\", zorder=6)\n",
    "            #axarr[i, j].scatter([opt.real], [opt.imag], marker=\"o\", color=\"C1\", zorder=5)\n",
    "            axarr[i, j].scatter([optPro.real], [optPro.imag], marker=\"+\", color=\"C2\", zorder=10)\n",
    "            axarr[i, j].scatter([bopt.real], [bopt.imag], marker=\"*\", color=\"C3\", zorder=8)\n",
    "            \n",
    "        #axarr[i, j].add_patch(plt.Circle((ex.real, ex.imag), radius=2*ex_std, fc=\"none\", ec=\"C0\"))\n",
    "        #axarr[i, j].add_patch(plt.Circle((optPro.real, optPro.imag), radius=2*optPro_std, fc=\"none\", ec=\"C2\"))\n",
    "        #axarr[i, j].add_patch(plt.Circle((bopt.real, bopt.imag), radius=2*bopt_std, fc=\"none\", ec=\"C3\"))\n",
    "        axarr[i, j].set_xlim(er.real-box, er.real+box)\n",
    "        axarr[i, j].set_ylim(er.imag-box, er.imag+box)\n",
    "        axarr[i, j].set_xticks([])\n",
    "        axarr[i, j].set_yticks([])\n",
    "    axarr[i, 0].set_ylabel(r\"$\\gamma = {:2.2f}$\".format(gamma))\n",
    "for i, ax in enumerate(axarr[0, :]):\n",
    "    ax.set_title(r\"$\\lambda_{{{:d}}}$\".format(i))\n",
    "axarr[0, 0].legend(ncol=5, bbox_to_anchor=(3.3, 1.8), loc=\"upper center\")\n",
    "plt.savefig(join(results_path, \"eigvals_20.pdf\"), bbox_inches=\"tight\")"
   ],
   "outputs": [],
   "execution_count": null
  },
  {
   "cell_type": "code",
   "id": "6252bad9-f867-47e0-a21c-7b45304768e0",
   "metadata": {},
   "source": [
    "top_n = 5\n",
    "rank = 25\n",
    "\n",
    "fig, axarr = plt.subplots(len(noise_levels), top_n, figsize=(6, 4))\n",
    "\n",
    "dmd_ref = DMD(dm_norm, dt, rank=rank, optimal=True)\n",
    "eigs_ref = dmd_ref.eigvals[dmd_ref.top_modes(top_n, integral=True, f_min=0.01)]\n",
    "\n",
    "box = 0.005\n",
    "for i, gamma in enumerate(noise_levels[::-1]):\n",
    "    for j, er in enumerate(eigs_ref):\n",
    "        axarr[i, j].add_patch(plt.Circle((0.0, 0.0), radius=1.0, color=\"k\", alpha=0.2, ec=\"k\", lw=2, ls=\"--\"))\n",
    "        axarr[i, j].set_aspect(\"equal\")\n",
    "        ex, ex_std = average_closest(er, results[f\"{gamma}_{rank}\"][\"eigs_exact\"])\n",
    "        opt, opt_std = average_closest(er, results[f\"{gamma}_{rank}\"][\"eigs_opt\"])\n",
    "        optPro, optPro_std = average_closest(er, results[f\"{gamma}_{rank}\"][\"eigs_optPro\"])\n",
    "        bopt, bopt_std = average_closest(er, results[f\"{gamma}_{rank}\"][\"eigs_bopt\"])\n",
    "        if i == 0 and j==0:\n",
    "            axarr[i, j].scatter([er.real], [er.imag], marker=\"o\", color=\"k\", facecolor=\"none\", s=100, zorder=5, label=\"ref.\")\n",
    "            axarr[i, j].scatter([ex.real], [ex.imag], marker=\"x\", color=\"C0\", zorder=6, label=\"exact\")\n",
    "            #axarr[i, j].scatter([opt.real], [opt.imag], marker=\"o\", color=\"C1\", zorder=5, label=\"ADAM\")\n",
    "            axarr[i, j].scatter([optPro.real], [optPro.imag], marker=\"+\", color=\"C2\", zorder=10, label=\"ADAM, POD\")\n",
    "            axarr[i, j].scatter([bopt.real], [bopt.imag], marker=\"*\", color=\"C3\", zorder=8, label=\"VarPro\")\n",
    "        else:\n",
    "            axarr[i, j].scatter([er.real], [er.imag], marker=\"o\", color=\"k\", facecolor=\"none\", s=100, zorder=5)\n",
    "            axarr[i, j].scatter([ex.real], [ex.imag], marker=\"x\", color=\"C0\", zorder=6)\n",
    "            #axarr[i, j].scatter([opt.real], [opt.imag], marker=\"o\", color=\"C1\", zorder=5)\n",
    "            axarr[i, j].scatter([optPro.real], [optPro.imag], marker=\"+\", color=\"C2\", zorder=10)\n",
    "            axarr[i, j].scatter([bopt.real], [bopt.imag], marker=\"*\", color=\"C3\", zorder=8)\n",
    "            \n",
    "        #axarr[i, j].add_patch(plt.Circle((ex.real, ex.imag), radius=2*ex_std, fc=\"none\", ec=\"C0\"))\n",
    "        #axarr[i, j].add_patch(plt.Circle((optPro.real, optPro.imag), radius=2*optPro_std, fc=\"none\", ec=\"C2\"))\n",
    "        #axarr[i, j].add_patch(plt.Circle((bopt.real, bopt.imag), radius=2*bopt_std, fc=\"none\", ec=\"C3\"))\n",
    "        axarr[i, j].set_xlim(er.real-box, er.real+box)\n",
    "        axarr[i, j].set_ylim(er.imag-box, er.imag+box)\n",
    "        axarr[i, j].set_xticks([])\n",
    "        axarr[i, j].set_yticks([])\n",
    "    axarr[i, 0].set_ylabel(r\"$\\gamma = {:2.2f}$\".format(gamma))\n",
    "for i, ax in enumerate(axarr[0, :]):\n",
    "    ax.set_title(r\"$\\lambda_{{{:d}}}$\".format(i))\n",
    "axarr[0, 0].legend(ncol=5, bbox_to_anchor=(3.3, 1.8), loc=\"upper center\")\n",
    "plt.savefig(join(results_path, \"eigvals_25.pdf\"), bbox_inches=\"tight\")"
   ],
   "outputs": [],
   "execution_count": null
  },
  {
   "cell_type": "code",
   "id": "b15b3ca1-1abb-42b0-81cd-06de98c707dc",
   "metadata": {},
   "source": "print(\"Done!\")",
   "outputs": [],
   "execution_count": null
  },
  {
   "metadata": {},
   "cell_type": "code",
   "source": "",
   "id": "8b6692fa8b79e7c5",
   "outputs": [],
   "execution_count": null
  },
  {
   "metadata": {},
   "cell_type": "code",
   "source": "",
   "id": "e60edd78c714f255",
   "outputs": [],
   "execution_count": null
  }
 ],
 "metadata": {
  "kernelspec": {
   "display_name": "Python 3 (ipykernel)",
   "language": "python",
   "name": "python3"
  },
  "language_info": {
   "codemirror_mode": {
    "name": "ipython",
    "version": 3
   },
   "file_extension": ".py",
   "mimetype": "text/x-python",
   "name": "python",
   "nbconvert_exporter": "python",
   "pygments_lexer": "ipython3",
   "version": "3.10.12"
  }
 },
 "nbformat": 4,
 "nbformat_minor": 5
}
